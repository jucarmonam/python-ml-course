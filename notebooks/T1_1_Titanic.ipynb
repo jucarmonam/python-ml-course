{
  "nbformat": 4,
  "nbformat_minor": 0,
  "metadata": {
    "colab": {
      "name": "T1 - 1 - Titanic.ipynb",
      "provenance": []
    },
    "kernelspec": {
      "name": "python3",
      "display_name": "Python 3"
    },
    "language_info": {
      "name": "python"
    }
  },
  "cells": [
    {
      "cell_type": "markdown",
      "metadata": {
        "id": "5n7TAyqFE7n_"
      },
      "source": [
        "## Carga de datos a través de la función read_csv"
      ]
    },
    {
      "cell_type": "code",
      "metadata": {
        "id": "fM6sl2G8EzqP"
      },
      "source": [
        "import pandas as pd"
      ],
      "execution_count": null,
      "outputs": []
    },
    {
      "cell_type": "code",
      "metadata": {
        "id": "_U6Vvit3FDgn"
      },
      "source": [
        "data = pd.read_csv(\"\")"
      ],
      "execution_count": null,
      "outputs": []
    }
  ]
}